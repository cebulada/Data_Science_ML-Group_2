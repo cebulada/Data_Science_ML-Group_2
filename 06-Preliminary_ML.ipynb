{
 "cells": [
  {
   "cell_type": "markdown",
   "id": "7d74a56c-6628-4374-b114-f77430cd9732",
   "metadata": {},
   "source": [
    "# Jupyter Notebook Purpose\n",
    "\n",
    "- Preliminary ML learning will need to be done\n",
    "    - a couple of models are attempted and an ensemble is created from the best performing models"
   ]
  },
  {
   "cell_type": "markdown",
   "id": "60929f4a-1de0-4731-9042-812765f1b9e7",
   "metadata": {},
   "source": [
    "## Group 2 Members\n",
    "\n",
    "- 1. Melissa Hartwick - [Email](mailto:mhartwic@uwaterloo.ca)\n",
    "- 2. McKinleigh Needham - [Email](mailto:mjneedha@uwaterloo.ca)\n",
    "- 3. Daniel Adam Cebula  - [Email](mailto:dacebula@uwaterloo.ca)\n",
    "- 4. Athithian Selvadurai - [Email](mailto:a6selvad@uwaterloo.ca)\n",
    "- 5. Aravind Kakarala - [Email](mailto:akakaral@uwaterloo.ca)\n",
    "- 6. Allan Sales - [Email](mailto:asales@uwaterloo.ca)"
   ]
  },
  {
   "cell_type": "code",
   "execution_count": 1,
   "id": "3caf4ec2-bd51-4f44-bf7b-9638869b9040",
   "metadata": {},
   "outputs": [],
   "source": [
    "import pandas as pd\n",
    "import numpy as np\n",
    "import os\n",
    "import requests  # simple HTTP library for Python\n",
    "import io        # Tool for working with streams (Input/Ouput data)\n",
    "import matplotlib.pyplot as plt\n",
    "import glob\n",
    "import time\n",
    "\n",
    "%matplotlib inline\n",
    "\n",
    "# some matplotlib defaults\n",
    "plt.rcParams['axes.labelsize'] = 14\n",
    "plt.rcParams['xtick.labelsize'] = 12\n",
    "plt.rcParams['ytick.labelsize'] = 12"
   ]
  },
  {
   "cell_type": "code",
   "execution_count": 2,
   "id": "cb576b00-9191-4a29-8f2d-979172135a52",
   "metadata": {},
   "outputs": [],
   "source": [
    "# Get FilePaths\n",
    "cwd = os.getcwd()\n",
    "\n",
    "Final_Data_Directory = os.path.join(cwd, \"FINAL_DATA\")\n",
    "\n",
    "Final_Data = os.path.join(Final_Data_Directory, \"2014-2019-TTC-Delay-Data-Incident.csv\")"
   ]
  },
  {
   "cell_type": "code",
   "execution_count": 3,
   "id": "81e7e4b3-1dc5-42bc-b14e-79c6ab745386",
   "metadata": {},
   "outputs": [
    {
     "data": {
      "text/html": [
       "<div>\n",
       "<style scoped>\n",
       "    .dataframe tbody tr th:only-of-type {\n",
       "        vertical-align: middle;\n",
       "    }\n",
       "\n",
       "    .dataframe tbody tr th {\n",
       "        vertical-align: top;\n",
       "    }\n",
       "\n",
       "    .dataframe thead th {\n",
       "        text-align: right;\n",
       "    }\n",
       "</style>\n",
       "<table border=\"1\" class=\"dataframe\">\n",
       "  <thead>\n",
       "    <tr style=\"text-align: right;\">\n",
       "      <th></th>\n",
       "      <th>Identity</th>\n",
       "      <th>DateTime</th>\n",
       "      <th>Date</th>\n",
       "      <th>Hour</th>\n",
       "      <th>BusinessQuarter</th>\n",
       "      <th>MonthName</th>\n",
       "      <th>WeekOfYear</th>\n",
       "      <th>DayName</th>\n",
       "      <th>HolidayName</th>\n",
       "      <th>Incident</th>\n",
       "      <th>Temp (°C)</th>\n",
       "      <th>Precip. Amount (mm)</th>\n",
       "      <th>Wind Dir (10s deg)</th>\n",
       "      <th>Wind Spd (km/h)</th>\n",
       "      <th>Stn Press (kPa)</th>\n",
       "      <th>Min Delay</th>\n",
       "      <th>Min Gap</th>\n",
       "    </tr>\n",
       "  </thead>\n",
       "  <tbody>\n",
       "    <tr>\n",
       "      <th>540787</th>\n",
       "      <td>Bus</td>\n",
       "      <td>2019-05-21 14:01:00</td>\n",
       "      <td>2019-05-21</td>\n",
       "      <td>14</td>\n",
       "      <td>2</td>\n",
       "      <td>May</td>\n",
       "      <td>21</td>\n",
       "      <td>Tuesday</td>\n",
       "      <td>Not A Holiday</td>\n",
       "      <td>Route Problems</td>\n",
       "      <td>18.07</td>\n",
       "      <td>0.0</td>\n",
       "      <td>3.0</td>\n",
       "      <td>18.0</td>\n",
       "      <td>100.56</td>\n",
       "      <td>1</td>\n",
       "      <td>1</td>\n",
       "    </tr>\n",
       "    <tr>\n",
       "      <th>564151</th>\n",
       "      <td>Bus</td>\n",
       "      <td>2019-10-22 16:36:00</td>\n",
       "      <td>2019-10-22</td>\n",
       "      <td>17</td>\n",
       "      <td>4</td>\n",
       "      <td>October</td>\n",
       "      <td>43</td>\n",
       "      <td>Tuesday</td>\n",
       "      <td>Not A Holiday</td>\n",
       "      <td>Mechanical</td>\n",
       "      <td>14.47</td>\n",
       "      <td>0.0</td>\n",
       "      <td>18.5</td>\n",
       "      <td>18.0</td>\n",
       "      <td>98.96</td>\n",
       "      <td>21</td>\n",
       "      <td>42</td>\n",
       "    </tr>\n",
       "    <tr>\n",
       "      <th>132901</th>\n",
       "      <td>Bus</td>\n",
       "      <td>2014-02-05 08:08:00</td>\n",
       "      <td>2014-02-05</td>\n",
       "      <td>8</td>\n",
       "      <td>1</td>\n",
       "      <td>February</td>\n",
       "      <td>6</td>\n",
       "      <td>Wednesday</td>\n",
       "      <td>Not A Holiday</td>\n",
       "      <td>General</td>\n",
       "      <td>-6.33</td>\n",
       "      <td>0.5</td>\n",
       "      <td>5.0</td>\n",
       "      <td>28.0</td>\n",
       "      <td>100.06</td>\n",
       "      <td>12</td>\n",
       "      <td>12</td>\n",
       "    </tr>\n",
       "    <tr>\n",
       "      <th>313669</th>\n",
       "      <td>Bus</td>\n",
       "      <td>2016-04-21 05:28:00</td>\n",
       "      <td>2016-04-21</td>\n",
       "      <td>5</td>\n",
       "      <td>2</td>\n",
       "      <td>April</td>\n",
       "      <td>16</td>\n",
       "      <td>Thursday</td>\n",
       "      <td>Not A Holiday</td>\n",
       "      <td>Mechanical</td>\n",
       "      <td>7.60</td>\n",
       "      <td>0.0</td>\n",
       "      <td>3.5</td>\n",
       "      <td>11.5</td>\n",
       "      <td>100.19</td>\n",
       "      <td>6</td>\n",
       "      <td>12</td>\n",
       "    </tr>\n",
       "    <tr>\n",
       "      <th>402155</th>\n",
       "      <td>Bus</td>\n",
       "      <td>2017-07-02 12:20:00</td>\n",
       "      <td>2017-07-02</td>\n",
       "      <td>12</td>\n",
       "      <td>3</td>\n",
       "      <td>July</td>\n",
       "      <td>26</td>\n",
       "      <td>Sunday</td>\n",
       "      <td>Not A Holiday</td>\n",
       "      <td>Route Problems</td>\n",
       "      <td>22.67</td>\n",
       "      <td>0.0</td>\n",
       "      <td>15.5</td>\n",
       "      <td>12.0</td>\n",
       "      <td>99.99</td>\n",
       "      <td>11</td>\n",
       "      <td>24</td>\n",
       "    </tr>\n",
       "  </tbody>\n",
       "</table>\n",
       "</div>"
      ],
      "text/plain": [
       "       Identity            DateTime       Date  Hour  BusinessQuarter  \\\n",
       "540787      Bus 2019-05-21 14:01:00 2019-05-21    14                2   \n",
       "564151      Bus 2019-10-22 16:36:00 2019-10-22    17                4   \n",
       "132901      Bus 2014-02-05 08:08:00 2014-02-05     8                1   \n",
       "313669      Bus 2016-04-21 05:28:00 2016-04-21     5                2   \n",
       "402155      Bus 2017-07-02 12:20:00 2017-07-02    12                3   \n",
       "\n",
       "       MonthName  WeekOfYear    DayName    HolidayName        Incident  \\\n",
       "540787       May          21    Tuesday  Not A Holiday  Route Problems   \n",
       "564151   October          43    Tuesday  Not A Holiday      Mechanical   \n",
       "132901  February           6  Wednesday  Not A Holiday         General   \n",
       "313669     April          16   Thursday  Not A Holiday      Mechanical   \n",
       "402155      July          26     Sunday  Not A Holiday  Route Problems   \n",
       "\n",
       "        Temp (°C)  Precip. Amount (mm)  Wind Dir (10s deg)  Wind Spd (km/h)  \\\n",
       "540787      18.07                  0.0                 3.0             18.0   \n",
       "564151      14.47                  0.0                18.5             18.0   \n",
       "132901      -6.33                  0.5                 5.0             28.0   \n",
       "313669       7.60                  0.0                 3.5             11.5   \n",
       "402155      22.67                  0.0                15.5             12.0   \n",
       "\n",
       "        Stn Press (kPa)  Min Delay  Min Gap  \n",
       "540787           100.56          1        1  \n",
       "564151            98.96         21       42  \n",
       "132901           100.06         12       12  \n",
       "313669           100.19          6       12  \n",
       "402155            99.99         11       24  "
      ]
     },
     "execution_count": 3,
     "metadata": {},
     "output_type": "execute_result"
    }
   ],
   "source": [
    "# Load the Final Data into DataFrames\n",
    "df = pd.read_csv(Final_Data, parse_dates=[\"DateTime\", \"Date\"], low_memory=False)\n",
    "df.sample(5)"
   ]
  },
  {
   "cell_type": "code",
   "execution_count": null,
   "id": "a842585b-6432-4773-91b2-83a5db76e894",
   "metadata": {},
   "outputs": [],
   "source": [
    "# only a subset of the columns will be useful for machine learning\n",
    "df_prelim = df.loc[:,\n",
    "                   [\"Identity\", \"Hour\", \"MonthName\", \"DayName\", \"HolidayName\",\n",
    "                    \"Incident\", \"Temp (°C)\", \"Precip. Amount (mm)\", \"Wind Dir (10s deg)\",\n",
    "                    \"Wind Spd (km/h)\", \"Stn Press (kPa)\", \"Min Delay\", \"Min Gap\"]]"
   ]
  },
  {
   "cell_type": "code",
   "execution_count": null,
   "id": "16e4f708-acd1-4392-b87f-d4627c328352",
   "metadata": {},
   "outputs": [],
   "source": [
    "# continuous variables\n",
    "continuous = [\"Temp (°C)\", \"Precip. Amount (mm)\", \"Wind Dir (10s deg)\",\n",
    "              \"Wind Spd (km/h)\", \"Stn Press (kPa)\"]\n",
    "\n",
    "# categorical variables\n",
    "categorical_ml = [\"Identity\", \"Hour\", \"MonthName\", \"DayName\", \"HolidayName\", \"Incident\"]\n",
    "\n",
    "# turn each attribute into categorical\n",
    "for x in categorical_ml:\n",
    "    df_prelim[x] = df_prelim[x].astype(\"category\")"
   ]
  },
  {
   "cell_type": "code",
   "execution_count": null,
   "id": "61d15afd-15b9-40ed-b3da-82e04c9c56e8",
   "metadata": {},
   "outputs": [],
   "source": [
    "df_prelim.info()"
   ]
  },
  {
   "cell_type": "markdown",
   "id": "d76b7996-958c-40a7-8e3a-2b9c26cac445",
   "metadata": {},
   "source": [
    "# Preliminary Machine Learning"
   ]
  },
  {
   "cell_type": "code",
   "execution_count": null,
   "id": "f3977f4a-57b5-47b6-bd3c-dc0ed8e19179",
   "metadata": {},
   "outputs": [],
   "source": [
    "# Split data into Training and Testing data\n",
    "from sklearn.model_selection import StratifiedShuffleSplit\n",
    "from sklearn.model_selection import train_test_split\n",
    "\n",
    "# Scale the data\n",
    "from sklearn.preprocessing import MinMaxScaler\n",
    "from sklearn.preprocessing import OneHotEncoder\n",
    "\n",
    "# Imputation of missing values\n",
    "from sklearn.impute import SimpleImputer\n",
    "\n",
    "# Scikit pipelines\n",
    "from sklearn.pipeline import Pipeline\n",
    "from sklearn.compose import ColumnTransformer\n",
    "\n",
    "# Search for best hyperparameters\n",
    "from sklearn.model_selection import GridSearchCV\n",
    "from sklearn.model_selection import RandomizedSearchCV\n",
    "\n",
    "# Feature Reduction\n",
    "from sklearn.decomposition import PCA\n",
    "from sklearn.manifold import TSNE\n",
    "from sklearn.manifold import LocallyLinearEmbedding\n",
    "from sklearn.manifold import MDS\n",
    "\n",
    "# ML Models\n",
    "from sklearn.neighbors import KNeighborsClassifier\n",
    "from sklearn.ensemble import RandomForestClassifier\n",
    "from sklearn.cluster import KMeans\n",
    "from sklearn.tree import DecisionTreeClassifier\n",
    "from sklearn.ensemble import GradientBoostingClassifier"
   ]
  },
  {
   "cell_type": "markdown",
   "id": "ef092052-5863-4b34-a68f-609c6da382bd",
   "metadata": {},
   "source": [
    "# Train and Test Split"
   ]
  },
  {
   "cell_type": "code",
   "execution_count": null,
   "id": "672b380c-3def-4600-862e-dc447720657a",
   "metadata": {},
   "outputs": [],
   "source": [
    "split = StratifiedShuffleSplit(n_splits=1, test_size=0.2, random_state=123)\n",
    "for train_index, test_index in split.split(df_ML, df_ML[\"DEF_PAY\"]):\n",
    "    strat_train_set = df_ML.loc[train_index]\n",
    "    strat_test_set = df_ML.loc[test_index]\n",
    "    \n",
    "    \n",
    "# categorical data treatment pipeline\n",
    "categorical_pipe = Pipeline(steps=[\n",
    "    ('encoder', OneHotEncoder())\n",
    "])\n",
    "\n",
    "# numerical / continuous data treatment pipeline\n",
    "continuous_pipe = Pipeline(steps=[\n",
    "    (\"scaler\", MinMaxScaler())\n",
    "])\n",
    "\n",
    "# process the data columns depending on if it is a Numeric or Categorical\n",
    "preprocess = ColumnTransformer(\n",
    "   transformers=[\n",
    "    ('continuous', continuous_pipe, continuous)\n",
    "   ,('categorical', categorical_pipe, categorical)\n",
    "])\n",
    "\n",
    "\n",
    "# assemble it with RandomForestClassifier\n",
    "pipeline = Pipeline(steps = [\n",
    "               ('preprocess', preprocess)\n",
    "              ,('RandomForestClassifier', RandomForestClassifier())\n",
    "           ])\n"
   ]
  },
  {
   "cell_type": "code",
   "execution_count": null,
   "id": "d575f4b9-6878-46cf-bef8-4bcb4dad7707",
   "metadata": {},
   "outputs": [],
   "source": []
  },
  {
   "cell_type": "code",
   "execution_count": null,
   "id": "28de5d3f-2c63-46c0-804f-96c84049b5cf",
   "metadata": {},
   "outputs": [],
   "source": []
  },
  {
   "cell_type": "code",
   "execution_count": null,
   "id": "5f0baf0d-ccfd-462b-913b-7abd75a5ae6f",
   "metadata": {},
   "outputs": [],
   "source": []
  },
  {
   "cell_type": "code",
   "execution_count": null,
   "id": "e16dc6aa-403a-4c6b-998c-8806dbdd0493",
   "metadata": {},
   "outputs": [],
   "source": [
    "#Function for X and y choosing the y column (Min Gap or Min Delay)\n",
    "def x_features (Y, df):\n",
    "    X = df.loc[:, df.columns != Y]\n",
    "    y = df[Y].values\n",
    "    #y = df.loc[:, df.columns == Y]\n",
    "    if Y == 'Min Gap':\n",
    "        X = X.drop(['Min Delay'], axis=1)\n",
    "    else:\n",
    "        X = X.drop(['Min Gap'], axis=1)\n",
    "    return X, y"
   ]
  },
  {
   "cell_type": "code",
   "execution_count": null,
   "id": "b0cf0de8-53f6-4e2e-b20b-463d182119e3",
   "metadata": {},
   "outputs": [],
   "source": [
    "# Running to predict the Min Gap\n",
    "X, y = x_features('Min Gap', df_cleaned)"
   ]
  },
  {
   "cell_type": "code",
   "execution_count": null,
   "id": "0d715e8e-14ba-4582-8207-58b02bf2bb01",
   "metadata": {},
   "outputs": [],
   "source": [
    "from sklearn.model_selection import train_test_split\n",
    "X_train, X_test, y_train, y_test = train_test_split(X, y, test_size=0.20)"
   ]
  },
  {
   "cell_type": "code",
   "execution_count": null,
   "id": "949a9641-f594-4d2e-b166-69a96054370c",
   "metadata": {},
   "outputs": [],
   "source": [
    "# Testing Random Forest\n",
    "from sklearn.ensemble import RandomForestRegressor"
   ]
  },
  {
   "cell_type": "code",
   "execution_count": null,
   "id": "7d4544b3-b567-4400-836c-61ff986294bb",
   "metadata": {},
   "outputs": [],
   "source": [
    "rf = RandomForestRegressor(max_depth = 50)\n",
    "rf.fit(X_train, y_train)"
   ]
  },
  {
   "cell_type": "code",
   "execution_count": null,
   "id": "cdbcc388-be6c-4954-8808-8bab4cf70a9b",
   "metadata": {},
   "outputs": [],
   "source": [
    "rf.score(X_test, y_test)"
   ]
  },
  {
   "cell_type": "code",
   "execution_count": null,
   "id": "724a31a6-acc6-4f3f-a7be-4e3cdec4f7a0",
   "metadata": {},
   "outputs": [],
   "source": [
    "# Running to predict the Min Delay\n",
    "X, y = x_features('Min Delay', df_cleaned)"
   ]
  },
  {
   "cell_type": "code",
   "execution_count": null,
   "id": "fe0dd639-ee5e-47ec-aacc-b669157a0bb9",
   "metadata": {},
   "outputs": [],
   "source": [
    "X_train, X_test, y_train, y_test = train_test_split(X, y, test_size=0.20)\n",
    "rf = RandomForestRegressor(max_depth = 15)\n",
    "rf.fit(X_train, y_train)\n",
    "rf.score(X_test, y_test)"
   ]
  },
  {
   "cell_type": "code",
   "execution_count": null,
   "id": "26ea8c42-992f-43ce-a583-b89259c2825b",
   "metadata": {},
   "outputs": [],
   "source": []
  },
  {
   "cell_type": "code",
   "execution_count": null,
   "id": "3677f229-2d6b-4e6a-8db6-fc2e2a693e73",
   "metadata": {},
   "outputs": [],
   "source": []
  },
  {
   "cell_type": "code",
   "execution_count": null,
   "id": "a87e0da0-8f19-414b-a002-db3140637ac7",
   "metadata": {},
   "outputs": [],
   "source": []
  },
  {
   "cell_type": "code",
   "execution_count": null,
   "id": "b6cdf00e-be4c-42f9-90e4-0e544a36890f",
   "metadata": {},
   "outputs": [],
   "source": []
  },
  {
   "cell_type": "code",
   "execution_count": null,
   "id": "b8654391-4580-4ddf-80bb-cab19dc1cdf1",
   "metadata": {},
   "outputs": [],
   "source": []
  }
 ],
 "metadata": {
  "kernelspec": {
   "display_name": "Python 3",
   "language": "python",
   "name": "python3"
  },
  "language_info": {
   "codemirror_mode": {
    "name": "ipython",
    "version": 3
   },
   "file_extension": ".py",
   "mimetype": "text/x-python",
   "name": "python",
   "nbconvert_exporter": "python",
   "pygments_lexer": "ipython3",
   "version": "3.8.10"
  }
 },
 "nbformat": 4,
 "nbformat_minor": 5
}
