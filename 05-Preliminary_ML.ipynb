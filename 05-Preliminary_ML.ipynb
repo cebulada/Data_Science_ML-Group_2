{
 "cells": [
  {
   "cell_type": "markdown",
   "id": "7d74a56c-6628-4374-b114-f77430cd9732",
   "metadata": {},
   "source": [
    "# Jupyter Notebook Purpose\n",
    "\n",
    "- Preliminary ML learning will need to be done\n",
    "    - a couple of models are attempted and an ensemble is created from the best performing models"
   ]
  },
  {
   "cell_type": "markdown",
   "id": "60929f4a-1de0-4731-9042-812765f1b9e7",
   "metadata": {},
   "source": [
    "## Group 2 Members\n",
    "\n",
    "- 1. Melissa Hartwick - [Email](mailto:mhartwic@uwaterloo.ca)\n",
    "- 2. McKinleigh Needham - [Email](mailto:mjneedha@uwaterloo.ca)\n",
    "- 3. Daniel Adam Cebula  - [Email](mailto:dacebula@uwaterloo.ca)\n",
    "- 4. Athithian Selvadurai - [Email](mailto:a6selvad@uwaterloo.ca)\n",
    "- 5. Aravind Kakarala - [Email](mailto:akakaral@uwaterloo.ca)\n",
    "- 6. Allan Sales - [Email](mailto:asales@uwaterloo.ca)"
   ]
  },
  {
   "cell_type": "code",
   "execution_count": 1,
   "id": "3caf4ec2-bd51-4f44-bf7b-9638869b9040",
   "metadata": {},
   "outputs": [],
   "source": [
    "import pandas as pd\n",
    "import numpy as np\n",
    "import os\n",
    "import requests  # simple HTTP library for Python\n",
    "import io        # Tool for working with streams (Input/Ouput data)\n",
    "import matplotlib.pyplot as plt\n",
    "import glob\n",
    "\n",
    "%matplotlib inline\n",
    "\n",
    "# some matplotlib defaults\n",
    "plt.rcParams['axes.labelsize'] = 14\n",
    "plt.rcParams['xtick.labelsize'] = 12\n",
    "plt.rcParams['ytick.labelsize'] = 12"
   ]
  },
  {
   "cell_type": "code",
   "execution_count": 2,
   "id": "cb576b00-9191-4a29-8f2d-979172135a52",
   "metadata": {},
   "outputs": [],
   "source": [
    "# Get FilePaths\n",
    "cwd = os.getcwd()\n",
    "\n",
    "Final_Data_Directory = os.path.join(cwd, \"FINAL_DATA\")\n",
    "\n",
    "Final_Data = os.path.join(Final_Data_Directory, \"2014-2019-TTC-Delay-Data-Incident.csv\")"
   ]
  },
  {
   "cell_type": "code",
   "execution_count": 3,
   "id": "81e7e4b3-1dc5-42bc-b14e-79c6ab745386",
   "metadata": {},
   "outputs": [
    {
     "data": {
      "text/html": [
       "<div>\n",
       "<style scoped>\n",
       "    .dataframe tbody tr th:only-of-type {\n",
       "        vertical-align: middle;\n",
       "    }\n",
       "\n",
       "    .dataframe tbody tr th {\n",
       "        vertical-align: top;\n",
       "    }\n",
       "\n",
       "    .dataframe thead th {\n",
       "        text-align: right;\n",
       "    }\n",
       "</style>\n",
       "<table border=\"1\" class=\"dataframe\">\n",
       "  <thead>\n",
       "    <tr style=\"text-align: right;\">\n",
       "      <th></th>\n",
       "      <th>Identity</th>\n",
       "      <th>DateTime</th>\n",
       "      <th>Date</th>\n",
       "      <th>Hour</th>\n",
       "      <th>BusinessQuarter</th>\n",
       "      <th>MonthName</th>\n",
       "      <th>WeekOfYear</th>\n",
       "      <th>DayName</th>\n",
       "      <th>HolidayName</th>\n",
       "      <th>Incident</th>\n",
       "      <th>Temp (°C)</th>\n",
       "      <th>Precip. Amount (mm)</th>\n",
       "      <th>Wind Dir (10s deg)</th>\n",
       "      <th>Wind Spd (km/h)</th>\n",
       "      <th>Stn Press (kPa)</th>\n",
       "      <th>Min Delay</th>\n",
       "      <th>Min Gap</th>\n",
       "    </tr>\n",
       "  </thead>\n",
       "  <tbody>\n",
       "    <tr>\n",
       "      <th>7701</th>\n",
       "      <td>Subway</td>\n",
       "      <td>2016-10-06 17:21:00</td>\n",
       "      <td>2016-10-06</td>\n",
       "      <td>17</td>\n",
       "      <td>4</td>\n",
       "      <td>October</td>\n",
       "      <td>40</td>\n",
       "      <td>Thursday</td>\n",
       "      <td>Not A Holiday</td>\n",
       "      <td>Other</td>\n",
       "      <td>20.2</td>\n",
       "      <td>0.0</td>\n",
       "      <td>11.0</td>\n",
       "      <td>13.5</td>\n",
       "      <td>100.90</td>\n",
       "      <td>7</td>\n",
       "      <td>12</td>\n",
       "    </tr>\n",
       "    <tr>\n",
       "      <th>523434</th>\n",
       "      <td>Bus</td>\n",
       "      <td>2019-02-14 05:57:00</td>\n",
       "      <td>2019-02-14</td>\n",
       "      <td>6</td>\n",
       "      <td>1</td>\n",
       "      <td>February</td>\n",
       "      <td>7</td>\n",
       "      <td>Thursday</td>\n",
       "      <td>Not A Holiday</td>\n",
       "      <td>Mechanical</td>\n",
       "      <td>-2.8</td>\n",
       "      <td>0.0</td>\n",
       "      <td>25.0</td>\n",
       "      <td>16.5</td>\n",
       "      <td>99.94</td>\n",
       "      <td>12</td>\n",
       "      <td>23</td>\n",
       "    </tr>\n",
       "    <tr>\n",
       "      <th>156511</th>\n",
       "      <td>Bus</td>\n",
       "      <td>2014-05-02 19:30:00</td>\n",
       "      <td>2014-05-02</td>\n",
       "      <td>20</td>\n",
       "      <td>2</td>\n",
       "      <td>May</td>\n",
       "      <td>18</td>\n",
       "      <td>Friday</td>\n",
       "      <td>Not A Holiday</td>\n",
       "      <td>Mechanical</td>\n",
       "      <td>9.3</td>\n",
       "      <td>0.0</td>\n",
       "      <td>22.0</td>\n",
       "      <td>16.5</td>\n",
       "      <td>99.40</td>\n",
       "      <td>10</td>\n",
       "      <td>20</td>\n",
       "    </tr>\n",
       "    <tr>\n",
       "      <th>139963</th>\n",
       "      <td>Bus</td>\n",
       "      <td>2014-03-01 15:48:00</td>\n",
       "      <td>2014-03-01</td>\n",
       "      <td>16</td>\n",
       "      <td>1</td>\n",
       "      <td>March</td>\n",
       "      <td>9</td>\n",
       "      <td>Saturday</td>\n",
       "      <td>Not A Holiday</td>\n",
       "      <td>Mechanical</td>\n",
       "      <td>-2.6</td>\n",
       "      <td>0.0</td>\n",
       "      <td>27.0</td>\n",
       "      <td>22.0</td>\n",
       "      <td>100.36</td>\n",
       "      <td>7</td>\n",
       "      <td>14</td>\n",
       "    </tr>\n",
       "    <tr>\n",
       "      <th>635525</th>\n",
       "      <td>Streetcar</td>\n",
       "      <td>2018-07-17 17:23:00</td>\n",
       "      <td>2018-07-17</td>\n",
       "      <td>17</td>\n",
       "      <td>3</td>\n",
       "      <td>July</td>\n",
       "      <td>29</td>\n",
       "      <td>Tuesday</td>\n",
       "      <td>Not A Holiday</td>\n",
       "      <td>Mechanical</td>\n",
       "      <td>25.6</td>\n",
       "      <td>0.0</td>\n",
       "      <td>35.0</td>\n",
       "      <td>22.5</td>\n",
       "      <td>99.73</td>\n",
       "      <td>4</td>\n",
       "      <td>9</td>\n",
       "    </tr>\n",
       "  </tbody>\n",
       "</table>\n",
       "</div>"
      ],
      "text/plain": [
       "         Identity            DateTime       Date  Hour  BusinessQuarter  \\\n",
       "7701       Subway 2016-10-06 17:21:00 2016-10-06    17                4   \n",
       "523434        Bus 2019-02-14 05:57:00 2019-02-14     6                1   \n",
       "156511        Bus 2014-05-02 19:30:00 2014-05-02    20                2   \n",
       "139963        Bus 2014-03-01 15:48:00 2014-03-01    16                1   \n",
       "635525  Streetcar 2018-07-17 17:23:00 2018-07-17    17                3   \n",
       "\n",
       "       MonthName  WeekOfYear   DayName    HolidayName    Incident  Temp (°C)  \\\n",
       "7701     October          40  Thursday  Not A Holiday       Other       20.2   \n",
       "523434  February           7  Thursday  Not A Holiday  Mechanical       -2.8   \n",
       "156511       May          18    Friday  Not A Holiday  Mechanical        9.3   \n",
       "139963     March           9  Saturday  Not A Holiday  Mechanical       -2.6   \n",
       "635525      July          29   Tuesday  Not A Holiday  Mechanical       25.6   \n",
       "\n",
       "        Precip. Amount (mm)  Wind Dir (10s deg)  Wind Spd (km/h)  \\\n",
       "7701                    0.0                11.0             13.5   \n",
       "523434                  0.0                25.0             16.5   \n",
       "156511                  0.0                22.0             16.5   \n",
       "139963                  0.0                27.0             22.0   \n",
       "635525                  0.0                35.0             22.5   \n",
       "\n",
       "        Stn Press (kPa)  Min Delay  Min Gap  \n",
       "7701             100.90          7       12  \n",
       "523434            99.94         12       23  \n",
       "156511            99.40         10       20  \n",
       "139963           100.36          7       14  \n",
       "635525            99.73          4        9  "
      ]
     },
     "execution_count": 3,
     "metadata": {},
     "output_type": "execute_result"
    }
   ],
   "source": [
    "# Load the Final Data into DataFrames\n",
    "df = pd.read_csv(Final_Data, parse_dates=[\"DateTime\", \"Date\"], low_memory=False)\n",
    "df.sample(5)"
   ]
  },
  {
   "cell_type": "code",
   "execution_count": 4,
   "id": "0615ba25-3d65-4ff5-9b63-d3009a4c519b",
   "metadata": {},
   "outputs": [
    {
     "data": {
      "text/plain": [
       "Index(['Identity', 'DateTime', 'Date', 'Hour', 'BusinessQuarter', 'MonthName',\n",
       "       'WeekOfYear', 'DayName', 'HolidayName', 'Incident', 'Temp (°C)',\n",
       "       'Precip. Amount (mm)', 'Wind Dir (10s deg)', 'Wind Spd (km/h)',\n",
       "       'Stn Press (kPa)', 'Min Delay', 'Min Gap'],\n",
       "      dtype='object')"
      ]
     },
     "execution_count": 4,
     "metadata": {},
     "output_type": "execute_result"
    }
   ],
   "source": [
    "df.columns"
   ]
  },
  {
   "cell_type": "code",
   "execution_count": 16,
   "id": "a842585b-6432-4773-91b2-83a5db76e894",
   "metadata": {},
   "outputs": [],
   "source": [
    "# only a subset of the columns will be useful for machine learning\n",
    "df_prelim = df.loc[:,\n",
    "                   [\"Identity\", \"Hour\", \"MonthName\", \"DayName\", \"HolidayName\",\n",
    "                    \"Incident\", \"Temp (°C)\", \"Precip. Amount (mm)\", \"Wind Dir (10s deg)\",\n",
    "                    \"Wind Spd (km/h)\", \"Stn Press (kPa)\", \"Min Delay\", \"Min Gap\"]]\n",
    "\n",
    "# subset useful for time series analysis\n",
    "df_ts = df.loc[:,\n",
    "               [\"DateTime\", \"Identity\", \"Incident\",\n",
    "                \"Temp (°C)\", \"Precip. Amount (mm)\", \"Wind Dir (10s deg)\",\n",
    "                \"Wind Spd (km/h)\", \"Stn Press (kPa)\", \"Min Delay\", \"Min Gap\"]]"
   ]
  },
  {
   "cell_type": "code",
   "execution_count": 17,
   "id": "16e4f708-acd1-4392-b87f-d4627c328352",
   "metadata": {},
   "outputs": [],
   "source": [
    "# continuous variables\n",
    "continuous = [\"Temp (°C)\", \"Precip. Amount (mm)\", \"Wind Dir (10s deg)\",\n",
    "              \"Wind Spd (km/h)\", \"Stn Press (kPa)\"]\n",
    "\n",
    "# categorical variables\n",
    "categorical_ml = [\"Identity\", \"Hour\", \"MonthName\", \"DayName\", \"HolidayName\", \"Incident\"]\n",
    "categorical_ts = [\"Identity\", \"Incident\"]\n",
    "\n",
    "# turn each attribute into categorical\n",
    "for x in categorical_ml:\n",
    "    df_prelim[x] = df_prelim[x].astype(\"category\")\n",
    "    \n",
    "# turn each attribute into categorical\n",
    "for x in categorical_ts:\n",
    "    df_ts[x] = df_ts[x].astype(\"category\")"
   ]
  },
  {
   "cell_type": "code",
   "execution_count": 18,
   "id": "61d15afd-15b9-40ed-b3da-82e04c9c56e8",
   "metadata": {},
   "outputs": [
    {
     "name": "stdout",
     "output_type": "stream",
     "text": [
      "<class 'pandas.core.frame.DataFrame'>\n",
      "RangeIndex: 653766 entries, 0 to 653765\n",
      "Data columns (total 13 columns):\n",
      " #   Column               Non-Null Count   Dtype   \n",
      "---  ------               --------------   -----   \n",
      " 0   Identity             653766 non-null  category\n",
      " 1   Hour                 653766 non-null  category\n",
      " 2   MonthName            653766 non-null  category\n",
      " 3   DayName              653766 non-null  category\n",
      " 4   HolidayName          653766 non-null  category\n",
      " 5   Incident             650159 non-null  category\n",
      " 6   Temp (°C)            653741 non-null  float64 \n",
      " 7   Precip. Amount (mm)  653564 non-null  float64 \n",
      " 8   Wind Dir (10s deg)   653554 non-null  float64 \n",
      " 9   Wind Spd (km/h)      653659 non-null  float64 \n",
      " 10  Stn Press (kPa)      653741 non-null  float64 \n",
      " 11  Min Delay            653766 non-null  int64   \n",
      " 12  Min Gap              653766 non-null  int64   \n",
      "dtypes: category(6), float64(5), int64(2)\n",
      "memory usage: 38.7 MB\n"
     ]
    }
   ],
   "source": [
    "df_prelim.info()"
   ]
  },
  {
   "cell_type": "code",
   "execution_count": 19,
   "id": "00cc5d5a-18b7-4c27-936c-fe530d56a54a",
   "metadata": {},
   "outputs": [
    {
     "name": "stdout",
     "output_type": "stream",
     "text": [
      "<class 'pandas.core.frame.DataFrame'>\n",
      "RangeIndex: 653766 entries, 0 to 653765\n",
      "Data columns (total 10 columns):\n",
      " #   Column               Non-Null Count   Dtype         \n",
      "---  ------               --------------   -----         \n",
      " 0   DateTime             653766 non-null  datetime64[ns]\n",
      " 1   Identity             653766 non-null  category      \n",
      " 2   Incident             650159 non-null  category      \n",
      " 3   Temp (°C)            653741 non-null  float64       \n",
      " 4   Precip. Amount (mm)  653564 non-null  float64       \n",
      " 5   Wind Dir (10s deg)   653554 non-null  float64       \n",
      " 6   Wind Spd (km/h)      653659 non-null  float64       \n",
      " 7   Stn Press (kPa)      653741 non-null  float64       \n",
      " 8   Min Delay            653766 non-null  int64         \n",
      " 9   Min Gap              653766 non-null  int64         \n",
      "dtypes: category(2), datetime64[ns](1), float64(5), int64(2)\n",
      "memory usage: 41.2 MB\n"
     ]
    }
   ],
   "source": [
    "df_ts.info()"
   ]
  },
  {
   "cell_type": "code",
   "execution_count": null,
   "id": "1bdef88d-c7ec-4add-9ee6-ea0c58f99ef8",
   "metadata": {},
   "outputs": [],
   "source": []
  },
  {
   "cell_type": "code",
   "execution_count": null,
   "id": "6276d0d2-f300-4b30-8d7e-7908ca4e03cf",
   "metadata": {},
   "outputs": [],
   "source": []
  },
  {
   "cell_type": "code",
   "execution_count": null,
   "id": "149a2d7c-c746-441a-831a-a3a4e2a3b745",
   "metadata": {},
   "outputs": [],
   "source": []
  },
  {
   "cell_type": "code",
   "execution_count": null,
   "id": "ef42d521-d0f1-4614-a204-e10100679fc7",
   "metadata": {},
   "outputs": [],
   "source": []
  },
  {
   "cell_type": "code",
   "execution_count": null,
   "id": "0b3c76dd-2fba-43c2-82e1-872d0c9b0569",
   "metadata": {},
   "outputs": [],
   "source": []
  },
  {
   "cell_type": "code",
   "execution_count": null,
   "id": "916a8126-cf47-4182-94d4-5884129ad954",
   "metadata": {},
   "outputs": [],
   "source": []
  },
  {
   "cell_type": "code",
   "execution_count": null,
   "id": "7a8a727b-8cc2-4ee1-bc62-aeda300367e7",
   "metadata": {},
   "outputs": [],
   "source": []
  },
  {
   "cell_type": "code",
   "execution_count": null,
   "id": "aff5bbd5-0dd5-4bca-9cb5-0cf622971c71",
   "metadata": {},
   "outputs": [],
   "source": []
  },
  {
   "cell_type": "code",
   "execution_count": null,
   "id": "fc82cf98-175b-4989-a79c-85b278684332",
   "metadata": {},
   "outputs": [],
   "source": []
  },
  {
   "cell_type": "code",
   "execution_count": null,
   "id": "b0a83ba4-3d2d-4999-b243-bb7382e981e1",
   "metadata": {},
   "outputs": [],
   "source": []
  },
  {
   "cell_type": "code",
   "execution_count": null,
   "id": "6a4de5d4-0043-4b8f-a5a9-19cbad39dffb",
   "metadata": {},
   "outputs": [],
   "source": []
  },
  {
   "cell_type": "code",
   "execution_count": null,
   "id": "d35f3f07-a520-49eb-a61d-f1be936e92e3",
   "metadata": {},
   "outputs": [],
   "source": []
  },
  {
   "cell_type": "code",
   "execution_count": null,
   "id": "6f146181-ab3a-4f75-8d74-41e7207906f8",
   "metadata": {},
   "outputs": [],
   "source": []
  },
  {
   "cell_type": "code",
   "execution_count": null,
   "id": "44bb0d05-e692-4cd6-ba07-9796109806ed",
   "metadata": {},
   "outputs": [],
   "source": []
  },
  {
   "cell_type": "code",
   "execution_count": null,
   "id": "6b0b5800-cf1a-4ec1-8f73-85729f3200d1",
   "metadata": {},
   "outputs": [],
   "source": []
  },
  {
   "cell_type": "markdown",
   "id": "d76b7996-958c-40a7-8e3a-2b9c26cac445",
   "metadata": {},
   "source": [
    "# Preliminary Machine Learning"
   ]
  },
  {
   "cell_type": "code",
   "execution_count": null,
   "id": "f3977f4a-57b5-47b6-bd3c-dc0ed8e19179",
   "metadata": {},
   "outputs": [],
   "source": [
    "# Split data into Training and Testing data\n",
    "from sklearn.model_selection import StratifiedShuffleSplit\n",
    "from sklearn.model_selection import train_test_split\n",
    "\n",
    "# Scale the data\n",
    "from sklearn.preprocessing import MinMaxScaler\n",
    "from sklearn.preprocessing import OneHotEncoder\n",
    "\n",
    "# Imputation of missing values\n",
    "from sklearn.impute import SimpleImputer\n",
    "\n",
    "# Scikit pipelines\n",
    "from sklearn.pipeline import Pipeline\n",
    "from sklearn.compose import ColumnTransformer\n",
    "\n",
    "# Search for best hyperparameters\n",
    "from sklearn.model_selection import GridSearchCV\n",
    "from sklearn.model_selection import RandomizedSearchCV\n",
    "\n",
    "# Feature Reduction\n",
    "from sklearn.decomposition import PCA\n",
    "from sklearn.manifold import TSNE\n",
    "from sklearn.manifold import LocallyLinearEmbedding\n",
    "from sklearn.manifold import MDS\n",
    "\n",
    "# ML Models\n",
    "from sklearn.neighbors import KNeighborsClassifier\n",
    "from sklearn.ensemble import RandomForestClassifier\n",
    "from sklearn.cluster import KMeans\n",
    "from sklearn.tree import DecisionTreeClassifier\n",
    "from sklearn.ensemble import GradientBoostingClassifier"
   ]
  },
  {
   "cell_type": "markdown",
   "id": "ef092052-5863-4b34-a68f-609c6da382bd",
   "metadata": {},
   "source": [
    "# Train and Test Split"
   ]
  },
  {
   "cell_type": "code",
   "execution_count": null,
   "id": "672b380c-3def-4600-862e-dc447720657a",
   "metadata": {},
   "outputs": [],
   "source": [
    "split = StratifiedShuffleSplit(n_splits=1, test_size=0.2, random_state=123)\n",
    "for train_index, test_index in split.split(df_ML, df_ML[\"DEF_PAY\"]):\n",
    "    strat_train_set = df_ML.loc[train_index]\n",
    "    strat_test_set = df_ML.loc[test_index]\n",
    "    \n",
    "    \n",
    "# categorical data treatment pipeline\n",
    "categorical_pipe = Pipeline(steps=[\n",
    "    ('encoder', OneHotEncoder())\n",
    "])\n",
    "\n",
    "# numerical / continuous data treatment pipeline\n",
    "continuous_pipe = Pipeline(steps=[\n",
    "    (\"scaler\", MinMaxScaler())\n",
    "])\n",
    "\n",
    "# process the data columns depending on if it is a Numeric or Categorical\n",
    "preprocess = ColumnTransformer(\n",
    "   transformers=[\n",
    "    ('continuous', continuous_pipe, continuous)\n",
    "   ,('categorical', categorical_pipe, categorical)\n",
    "])\n",
    "\n",
    "\n",
    "# assemble it with RandomForestClassifier\n",
    "pipeline = Pipeline(steps = [\n",
    "               ('preprocess', preprocess)\n",
    "              ,('RandomForestClassifier', RandomForestClassifier())\n",
    "           ])\n"
   ]
  },
  {
   "cell_type": "code",
   "execution_count": null,
   "id": "d575f4b9-6878-46cf-bef8-4bcb4dad7707",
   "metadata": {},
   "outputs": [],
   "source": []
  },
  {
   "cell_type": "code",
   "execution_count": null,
   "id": "28de5d3f-2c63-46c0-804f-96c84049b5cf",
   "metadata": {},
   "outputs": [],
   "source": []
  },
  {
   "cell_type": "code",
   "execution_count": null,
   "id": "5f0baf0d-ccfd-462b-913b-7abd75a5ae6f",
   "metadata": {},
   "outputs": [],
   "source": []
  },
  {
   "cell_type": "code",
   "execution_count": null,
   "id": "e16dc6aa-403a-4c6b-998c-8806dbdd0493",
   "metadata": {},
   "outputs": [],
   "source": [
    "#Function for X and y choosing the y column (Min Gap or Min Delay)\n",
    "def x_features (Y, df):\n",
    "    X = df.loc[:, df.columns != Y]\n",
    "    y = df[Y].values\n",
    "    #y = df.loc[:, df.columns == Y]\n",
    "    if Y == 'Min Gap':\n",
    "        X = X.drop(['Min Delay'], axis=1)\n",
    "    else:\n",
    "        X = X.drop(['Min Gap'], axis=1)\n",
    "    return X, y"
   ]
  },
  {
   "cell_type": "code",
   "execution_count": null,
   "id": "b0cf0de8-53f6-4e2e-b20b-463d182119e3",
   "metadata": {},
   "outputs": [],
   "source": [
    "# Running to predict the Min Gap\n",
    "X, y = x_features('Min Gap', df_cleaned)"
   ]
  },
  {
   "cell_type": "code",
   "execution_count": null,
   "id": "0d715e8e-14ba-4582-8207-58b02bf2bb01",
   "metadata": {},
   "outputs": [],
   "source": [
    "from sklearn.model_selection import train_test_split\n",
    "X_train, X_test, y_train, y_test = train_test_split(X, y, test_size=0.20)"
   ]
  },
  {
   "cell_type": "code",
   "execution_count": null,
   "id": "949a9641-f594-4d2e-b166-69a96054370c",
   "metadata": {},
   "outputs": [],
   "source": [
    "# Testing Random Forest\n",
    "from sklearn.ensemble import RandomForestRegressor"
   ]
  },
  {
   "cell_type": "code",
   "execution_count": null,
   "id": "7d4544b3-b567-4400-836c-61ff986294bb",
   "metadata": {},
   "outputs": [],
   "source": [
    "rf = RandomForestRegressor(max_depth = 50)\n",
    "rf.fit(X_train, y_train)"
   ]
  },
  {
   "cell_type": "code",
   "execution_count": null,
   "id": "cdbcc388-be6c-4954-8808-8bab4cf70a9b",
   "metadata": {},
   "outputs": [],
   "source": [
    "rf.score(X_test, y_test)"
   ]
  },
  {
   "cell_type": "code",
   "execution_count": null,
   "id": "724a31a6-acc6-4f3f-a7be-4e3cdec4f7a0",
   "metadata": {},
   "outputs": [],
   "source": [
    "# Running to predict the Min Delay\n",
    "X, y = x_features('Min Delay', df_cleaned)"
   ]
  },
  {
   "cell_type": "code",
   "execution_count": null,
   "id": "fe0dd639-ee5e-47ec-aacc-b669157a0bb9",
   "metadata": {},
   "outputs": [],
   "source": [
    "X_train, X_test, y_train, y_test = train_test_split(X, y, test_size=0.20)\n",
    "rf = RandomForestRegressor(max_depth = 15)\n",
    "rf.fit(X_train, y_train)\n",
    "rf.score(X_test, y_test)"
   ]
  },
  {
   "cell_type": "code",
   "execution_count": null,
   "id": "26ea8c42-992f-43ce-a583-b89259c2825b",
   "metadata": {},
   "outputs": [],
   "source": []
  },
  {
   "cell_type": "code",
   "execution_count": null,
   "id": "3677f229-2d6b-4e6a-8db6-fc2e2a693e73",
   "metadata": {},
   "outputs": [],
   "source": []
  },
  {
   "cell_type": "code",
   "execution_count": null,
   "id": "a87e0da0-8f19-414b-a002-db3140637ac7",
   "metadata": {},
   "outputs": [],
   "source": []
  },
  {
   "cell_type": "code",
   "execution_count": null,
   "id": "b6cdf00e-be4c-42f9-90e4-0e544a36890f",
   "metadata": {},
   "outputs": [],
   "source": []
  },
  {
   "cell_type": "code",
   "execution_count": null,
   "id": "b8654391-4580-4ddf-80bb-cab19dc1cdf1",
   "metadata": {},
   "outputs": [],
   "source": []
  }
 ],
 "metadata": {
  "kernelspec": {
   "display_name": "Python 3",
   "language": "python",
   "name": "python3"
  },
  "language_info": {
   "codemirror_mode": {
    "name": "ipython",
    "version": 3
   },
   "file_extension": ".py",
   "mimetype": "text/x-python",
   "name": "python",
   "nbconvert_exporter": "python",
   "pygments_lexer": "ipython3",
   "version": "3.8.10"
  }
 },
 "nbformat": 4,
 "nbformat_minor": 5
}
