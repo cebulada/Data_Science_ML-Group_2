{
 "cells": [
  {
   "cell_type": "markdown",
   "id": "121fc2de-3ba4-49bf-940f-a70c6e39ebb8",
   "metadata": {},
   "source": [
    "# Jupyter Notebook Purpose\n",
    "\n",
    "- Final ML learning"
   ]
  },
  {
   "cell_type": "markdown",
   "id": "39e1240c-624c-4780-800c-4ad9ec49476c",
   "metadata": {},
   "source": [
    "## Group 2 Members\n",
    "\n",
    "- 1. Melissa Hartwick - [Email](mailto:mhartwic@uwaterloo.ca)\n",
    "- 2. McKinleigh Needham - [Email](mailto:mjneedha@uwaterloo.ca)\n",
    "- 3. Daniel Adam Cebula  - [Email](mailto:dacebula@uwaterloo.ca)\n",
    "- 4. Athithian Selvadurai - [Email](mailto:a6selvad@uwaterloo.ca)\n",
    "- 5. Aravind Kakarala - [Email](mailto:akakaral@uwaterloo.ca)\n",
    "- 6. Allan Sales - [Email](mailto:asales@uwaterloo.ca)"
   ]
  },
  {
   "cell_type": "code",
   "execution_count": 1,
   "id": "d81c285e-be9d-4662-b853-ce571e06f005",
   "metadata": {},
   "outputs": [],
   "source": [
    "import pandas as pd\n",
    "import numpy as np\n",
    "import os\n",
    "import requests  # simple HTTP library for Python\n",
    "import io        # Tool for working with streams (Input/Ouput data)\n",
    "import matplotlib.pyplot as plt\n",
    "import glob\n",
    "import time\n",
    "from joblib import dump, load\n",
    "\n",
    "%matplotlib inline\n",
    "\n",
    "# some matplotlib defaults\n",
    "plt.rcParams['axes.labelsize'] = 14\n",
    "plt.rcParams['xtick.labelsize'] = 12\n",
    "plt.rcParams['ytick.labelsize'] = 12"
   ]
  },
  {
   "cell_type": "code",
   "execution_count": 2,
   "id": "fe8f9a96-ba51-4f15-8ca4-eab47154465a",
   "metadata": {},
   "outputs": [],
   "source": [
    "# Get FilePaths\n",
    "cwd = os.getcwd()\n",
    "\n",
    "Final_Data_Directory = os.path.join(cwd, \"FINAL_DATA\")\n",
    "\n",
    "Final_Data = os.path.join(Final_Data_Directory, \"2014-2019-TTC-Delay-Data-Final_ML.csv\")"
   ]
  },
  {
   "cell_type": "code",
   "execution_count": 3,
   "id": "4d18bab3-aa7a-4689-bfc9-2f2bb17a3b96",
   "metadata": {},
   "outputs": [
    {
     "data": {
      "text/html": [
       "<div>\n",
       "<style scoped>\n",
       "    .dataframe tbody tr th:only-of-type {\n",
       "        vertical-align: middle;\n",
       "    }\n",
       "\n",
       "    .dataframe tbody tr th {\n",
       "        vertical-align: top;\n",
       "    }\n",
       "\n",
       "    .dataframe thead th {\n",
       "        text-align: right;\n",
       "    }\n",
       "</style>\n",
       "<table border=\"1\" class=\"dataframe\">\n",
       "  <thead>\n",
       "    <tr style=\"text-align: right;\">\n",
       "      <th></th>\n",
       "      <th>Identity</th>\n",
       "      <th>Hour</th>\n",
       "      <th>Season</th>\n",
       "      <th>Day</th>\n",
       "      <th>Holiday</th>\n",
       "      <th>Incident</th>\n",
       "      <th>Temp (°C)</th>\n",
       "      <th>Precip. Amount (mm)</th>\n",
       "      <th>Min Delay Category</th>\n",
       "      <th>Min Gap Category</th>\n",
       "    </tr>\n",
       "  </thead>\n",
       "  <tbody>\n",
       "    <tr>\n",
       "      <th>376094</th>\n",
       "      <td>Bus</td>\n",
       "      <td>Afternoon / Evening</td>\n",
       "      <td>Winter</td>\n",
       "      <td>Weekday</td>\n",
       "      <td>Not A Holiday</td>\n",
       "      <td>Mechanical</td>\n",
       "      <td>0.83</td>\n",
       "      <td>2.6</td>\n",
       "      <td>10 - 30 minutes</td>\n",
       "      <td>30 - 60 minutes</td>\n",
       "    </tr>\n",
       "    <tr>\n",
       "      <th>78101</th>\n",
       "      <td>Subway</td>\n",
       "      <td>Afternoon / Evening</td>\n",
       "      <td>Summer</td>\n",
       "      <td>Weekday</td>\n",
       "      <td>Not A Holiday</td>\n",
       "      <td>Mechanical</td>\n",
       "      <td>19.63</td>\n",
       "      <td>0.0</td>\n",
       "      <td>0 - 3 minutes</td>\n",
       "      <td>0 - 3 minutes</td>\n",
       "    </tr>\n",
       "    <tr>\n",
       "      <th>492876</th>\n",
       "      <td>Bus</td>\n",
       "      <td>Morning</td>\n",
       "      <td>Fall</td>\n",
       "      <td>Weekday</td>\n",
       "      <td>Not A Holiday</td>\n",
       "      <td>Mechanical</td>\n",
       "      <td>21.03</td>\n",
       "      <td>0.0</td>\n",
       "      <td>3 - 10 minutes</td>\n",
       "      <td>3 - 10 minutes</td>\n",
       "    </tr>\n",
       "    <tr>\n",
       "      <th>485275</th>\n",
       "      <td>Bus</td>\n",
       "      <td>Afternoon / Evening</td>\n",
       "      <td>Summer</td>\n",
       "      <td>Weekday</td>\n",
       "      <td>Not A Holiday</td>\n",
       "      <td>Route Problems</td>\n",
       "      <td>24.23</td>\n",
       "      <td>0.0</td>\n",
       "      <td>10 - 30 minutes</td>\n",
       "      <td>10 - 30 minutes</td>\n",
       "    </tr>\n",
       "    <tr>\n",
       "      <th>528139</th>\n",
       "      <td>Bus</td>\n",
       "      <td>Morning</td>\n",
       "      <td>Spring</td>\n",
       "      <td>Weekday</td>\n",
       "      <td>Not A Holiday</td>\n",
       "      <td>Route Problems</td>\n",
       "      <td>-11.33</td>\n",
       "      <td>0.0</td>\n",
       "      <td>10 - 30 minutes</td>\n",
       "      <td>30 - 60 minutes</td>\n",
       "    </tr>\n",
       "  </tbody>\n",
       "</table>\n",
       "</div>"
      ],
      "text/plain": [
       "       Identity                 Hour  Season      Day        Holiday  \\\n",
       "376094      Bus  Afternoon / Evening  Winter  Weekday  Not A Holiday   \n",
       "78101    Subway  Afternoon / Evening  Summer  Weekday  Not A Holiday   \n",
       "492876      Bus              Morning    Fall  Weekday  Not A Holiday   \n",
       "485275      Bus  Afternoon / Evening  Summer  Weekday  Not A Holiday   \n",
       "528139      Bus              Morning  Spring  Weekday  Not A Holiday   \n",
       "\n",
       "              Incident  Temp (°C)  Precip. Amount (mm) Min Delay Category  \\\n",
       "376094      Mechanical       0.83                  2.6    10 - 30 minutes   \n",
       "78101       Mechanical      19.63                  0.0      0 - 3 minutes   \n",
       "492876      Mechanical      21.03                  0.0     3 - 10 minutes   \n",
       "485275  Route Problems      24.23                  0.0    10 - 30 minutes   \n",
       "528139  Route Problems     -11.33                  0.0    10 - 30 minutes   \n",
       "\n",
       "       Min Gap Category  \n",
       "376094  30 - 60 minutes  \n",
       "78101     0 - 3 minutes  \n",
       "492876   3 - 10 minutes  \n",
       "485275  10 - 30 minutes  \n",
       "528139  30 - 60 minutes  "
      ]
     },
     "execution_count": 3,
     "metadata": {},
     "output_type": "execute_result"
    }
   ],
   "source": [
    "# Load the Final Data into DataFrames\n",
    "df = pd.read_csv(Final_Data, low_memory=False)\n",
    "df.sample(5)"
   ]
  },
  {
   "cell_type": "code",
   "execution_count": 4,
   "id": "f5c9f739-15f1-40f3-b863-6a9ad4ca5ab6",
   "metadata": {},
   "outputs": [],
   "source": [
    "# continuous variables\n",
    "continuous = [\"Temp (°C)\", \"Precip. Amount (mm)\"]\n",
    "\n",
    "# categorical variables\n",
    "categorical_ml = [\"Identity\", \"Hour\", \"Season\", \"Day\", \"Holiday\", \"Incident\", \"Min Delay Category\", \"Min Gap Category\"]\n",
    "\n",
    "# turn each attribute into categorical\n",
    "for x in categorical_ml:\n",
    "    df[x] = df[x].astype(\"category\")"
   ]
  },
  {
   "cell_type": "code",
   "execution_count": 5,
   "id": "3fbe1151-e389-463b-9aa0-766312a64158",
   "metadata": {},
   "outputs": [
    {
     "name": "stdout",
     "output_type": "stream",
     "text": [
      "<class 'pandas.core.frame.DataFrame'>\n",
      "RangeIndex: 653736 entries, 0 to 653735\n",
      "Data columns (total 10 columns):\n",
      " #   Column               Non-Null Count   Dtype   \n",
      "---  ------               --------------   -----   \n",
      " 0   Identity             653736 non-null  category\n",
      " 1   Hour                 653736 non-null  category\n",
      " 2   Season               653736 non-null  category\n",
      " 3   Day                  653736 non-null  category\n",
      " 4   Holiday              653736 non-null  category\n",
      " 5   Incident             653736 non-null  category\n",
      " 6   Temp (°C)            653736 non-null  float64 \n",
      " 7   Precip. Amount (mm)  653736 non-null  float64 \n",
      " 8   Min Delay Category   653736 non-null  category\n",
      " 9   Min Gap Category     653736 non-null  category\n",
      "dtypes: category(8), float64(2)\n",
      "memory usage: 15.0 MB\n"
     ]
    }
   ],
   "source": [
    "df.info()"
   ]
  },
  {
   "cell_type": "markdown",
   "id": "adc29090-c289-4473-ab49-c03b3c200831",
   "metadata": {},
   "source": [
    "# Preliminary Machine Learning Imports"
   ]
  },
  {
   "cell_type": "code",
   "execution_count": 6,
   "id": "1ee1c7ae-df66-4005-aefe-f0df8ea1929a",
   "metadata": {},
   "outputs": [],
   "source": [
    "# Split data into Training and Testing data\n",
    "from sklearn.model_selection import StratifiedShuffleSplit\n",
    "from sklearn.model_selection import train_test_split\n",
    "\n",
    "# Scale the data\n",
    "from sklearn.preprocessing import MinMaxScaler\n",
    "from sklearn.preprocessing import OneHotEncoder\n",
    "\n",
    "# Scikit pipelines\n",
    "from sklearn.pipeline import Pipeline\n",
    "from sklearn.compose import ColumnTransformer\n",
    "\n",
    "# Search for best hyperparameters\n",
    "from sklearn.model_selection import GridSearchCV\n",
    "from sklearn.model_selection import RandomizedSearchCV\n",
    "\n",
    "# Feature Reduction\n",
    "from sklearn.decomposition import PCA\n",
    "\n",
    "# ML Models\n",
    "from sklearn.svm import LinearSVC\n",
    "from sklearn.ensemble import RandomForestClassifier\n",
    "from sklearn.ensemble import GradientBoostingClassifier\n",
    "\n",
    "# Ensemble\n",
    "from sklearn.ensemble import VotingClassifier\n",
    "\n",
    "# Classification Report\n",
    "from sklearn.metrics import classification_report"
   ]
  },
  {
   "cell_type": "markdown",
   "id": "be22acd4-c265-4ec9-9770-1837c095e01b",
   "metadata": {},
   "source": [
    "# Pipeline for both Min Delay and Min Gap"
   ]
  },
  {
   "cell_type": "code",
   "execution_count": 7,
   "id": "a13039ce-70c6-41aa-ab41-ffeaecf49bbd",
   "metadata": {},
   "outputs": [],
   "source": [
    "# Stratified Split for Delay Data Categories\n",
    "split = StratifiedShuffleSplit(n_splits=1, test_size=0.2, random_state=123)\n",
    "\n",
    "for train_index1, test_index1 in split.split(df, df[\"Min Delay Category\"]):\n",
    "    delay_train_set = df.loc[train_index1]\n",
    "    delay_test_set = df.loc[test_index1]\n",
    "    \n",
    "# Stratified Split for Delay Gap Categories\n",
    "for train_index2, test_index2 in split.split(df, df[\"Min Gap Category\"]):\n",
    "    gap_train_set = df.loc[train_index2]\n",
    "    gap_test_set = df.loc[test_index2]\n",
    "    \n",
    "# Create X (features) and y (labels) for both training and testing data\n",
    "X_train_delay = delay_train_set.drop(['Min Delay Category', 'Min Gap Category'], axis=1)\n",
    "X_test_delay = delay_test_set.drop(['Min Delay Category', 'Min Gap Category'], axis=1)\n",
    "y_train_delay = delay_train_set['Min Delay Category']\n",
    "y_test_delay = delay_test_set['Min Delay Category']\n",
    "\n",
    "X_train_gap = gap_train_set.drop(['Min Delay Category', 'Min Gap Category'], axis=1)\n",
    "X_test_gap = gap_test_set.drop(['Min Delay Category', 'Min Gap Category'], axis=1)\n",
    "y_train_gap = gap_train_set['Min Gap Category']\n",
    "y_test_gap = gap_test_set['Min Gap Category']"
   ]
  },
  {
   "cell_type": "code",
   "execution_count": 8,
   "id": "f39d1b79-bd21-42ac-9686-89f05955835f",
   "metadata": {},
   "outputs": [],
   "source": [
    "# one hot encoding categories\n",
    "one_hot_categories = [\n",
    "    \"Identity\", \"Hour\", \"Season\", \"Day\", \"Holiday\", \"Incident\"\n",
    "]\n",
    "\n",
    "# categorical data treatment pipeline\n",
    "categorical_pipe = Pipeline(steps=[\n",
    "    ('encoder', OneHotEncoder())\n",
    "])"
   ]
  },
  {
   "cell_type": "code",
   "execution_count": 9,
   "id": "be5a0059-9df0-4076-a955-7cc705bdd958",
   "metadata": {},
   "outputs": [],
   "source": [
    "# continuous variables\n",
    "continuous_columns = [\n",
    "    'Temp (°C)', 'Precip. Amount (mm)'\n",
    "]\n",
    "\n",
    "# numerical / continuous data treatment pipeline\n",
    "continuous_pipe = Pipeline(steps=[\n",
    "    (\"scaler\", MinMaxScaler())\n",
    "])"
   ]
  },
  {
   "cell_type": "code",
   "execution_count": 10,
   "id": "805959f2-6252-4538-9599-65b866f3f263",
   "metadata": {},
   "outputs": [],
   "source": [
    "# perserve 95% of variance\n",
    "pca = PCA(n_components=0.95)"
   ]
  },
  {
   "cell_type": "code",
   "execution_count": 11,
   "id": "4d026413-3e79-4daa-98db-a7c50e3c6c4e",
   "metadata": {},
   "outputs": [],
   "source": [
    "preprocess = ColumnTransformer(\n",
    "    transformers=[\n",
    "    ('continuous', continuous_pipe, continuous_columns),\n",
    "    ('categorical', categorical_pipe, one_hot_categories)\n",
    "    ])"
   ]
  },
  {
   "cell_type": "code",
   "execution_count": 12,
   "id": "3f9478b0-9fa9-48cd-a4e0-ebe61d537f0e",
   "metadata": {},
   "outputs": [],
   "source": [
    "# assemble it with RandomForestClassifier\n",
    "pipeline_rf_delay = Pipeline(steps = [\n",
    "               ('preprocess', preprocess),\n",
    "               (\"pca\", pca),\n",
    "               ('RandomForestClassifier', RandomForestClassifier(n_estimators=10))\n",
    "           ])\n",
    "pipeline_rf_gap = Pipeline(steps = [\n",
    "               ('preprocess', preprocess),\n",
    "               (\"pca\", pca),\n",
    "               ('RandomForestClassifier', RandomForestClassifier(n_estimators=10))\n",
    "           ])\n",
    "\n",
    "# Assemble it with Gradient Boosted Classifier\n",
    "pipeline_gbc_delay = Pipeline(steps = [\n",
    "               ('preprocess', preprocess),\n",
    "               (\"pca\", pca),\n",
    "               ('GradientBoostingClassifier', GradientBoostingClassifier(n_estimators=10))\n",
    "           ])\n",
    "pipeline_gbc_gap = Pipeline(steps = [\n",
    "               ('preprocess', preprocess),\n",
    "               (\"pca\", pca),\n",
    "               ('GradientBoostingClassifier', GradientBoostingClassifier(n_estimators=10))\n",
    "           ])\n",
    "\n",
    "# Assemble it with Support Vector Classifier\n",
    "pipeline_svc_delay  = Pipeline(steps = [\n",
    "               ('preprocess', preprocess),\n",
    "               (\"pca\", pca),\n",
    "               ('LinearSVC', LinearSVC(tol=0.1))\n",
    "           ])\n",
    "pipeline_svc_gap  = Pipeline(steps = [\n",
    "               ('preprocess', preprocess),\n",
    "               (\"pca\", pca),\n",
    "               ('LinearSVC', LinearSVC(tol=0.1))\n",
    "           ])"
   ]
  },
  {
   "cell_type": "code",
   "execution_count": 13,
   "id": "578df416-2696-4a7f-a709-a9f1accb10e1",
   "metadata": {},
   "outputs": [],
   "source": [
    "# Create an Ensemble\n",
    "# Delay\n",
    "vt_delay = VotingClassifier(\n",
    "    estimators=[(\"rf\", pipeline_rf_delay),\n",
    "                (\"gbc\", pipeline_gbc_delay),\n",
    "                (\"svc\", pipeline_svc_delay)],\n",
    "    voting=\"hard\"\n",
    ")\n",
    "\n",
    "# Gap\n",
    "vt_gap = VotingClassifier(\n",
    "    estimators=[(\"rf\", pipeline_rf_gap),\n",
    "                (\"gbc\", pipeline_gbc_gap),\n",
    "                (\"svc\", pipeline_svc_gap)],\n",
    "    voting=\"hard\"\n",
    ")"
   ]
  },
  {
   "cell_type": "code",
   "execution_count": 14,
   "id": "754e9c30-1795-4066-929e-b0f1c9570a2e",
   "metadata": {},
   "outputs": [
    {
     "name": "stdout",
     "output_type": "stream",
     "text": [
      "Time: 239.66053438186646\n"
     ]
    }
   ],
   "source": [
    "# Train the Model for Delay\n",
    "t0 = time.time()\n",
    "\n",
    "vt_delay.fit(X_train_delay, y_train_delay)\n",
    "\n",
    "print(f\"Time: {time.time() - t0}\")"
   ]
  },
  {
   "cell_type": "code",
   "execution_count": 15,
   "id": "f9fd20c6-c71c-4b41-9177-5252d54a4abd",
   "metadata": {},
   "outputs": [
    {
     "name": "stderr",
     "output_type": "stream",
     "text": [
      "C:\\Users\\danie\\anaconda3\\envs\\ML\\lib\\site-packages\\sklearn\\metrics\\_classification.py:1248: UndefinedMetricWarning: Precision and F-score are ill-defined and being set to 0.0 in labels with no predicted samples. Use `zero_division` parameter to control this behavior.\n",
      "  _warn_prf(average, modifier, msg_start, len(result))\n",
      "C:\\Users\\danie\\anaconda3\\envs\\ML\\lib\\site-packages\\sklearn\\metrics\\_classification.py:1248: UndefinedMetricWarning: Precision and F-score are ill-defined and being set to 0.0 in labels with no predicted samples. Use `zero_division` parameter to control this behavior.\n",
      "  _warn_prf(average, modifier, msg_start, len(result))\n"
     ]
    },
    {
     "name": "stdout",
     "output_type": "stream",
     "text": [
      "Minutes Delay Classification Report\n",
      "\n",
      "                  precision    recall  f1-score   support\n",
      "\n",
      "   0 - 3 minutes       0.73      0.65      0.69     25074\n",
      " 10 - 30 minutes       0.52      0.84      0.64     49820\n",
      "  3 - 10 minutes       0.56      0.32      0.41     47361\n",
      " 30 - 60 minutes       0.00      0.00      0.00      5611\n",
      "60 - 180 minutes       0.00      0.00      0.00      1612\n",
      "   >=180 minutes       0.50      0.00      0.00      1270\n",
      "\n",
      "        accuracy                           0.56    130748\n",
      "       macro avg       0.38      0.30      0.29    130748\n",
      "    weighted avg       0.54      0.56      0.52    130748\n",
      "\n"
     ]
    },
    {
     "name": "stderr",
     "output_type": "stream",
     "text": [
      "C:\\Users\\danie\\anaconda3\\envs\\ML\\lib\\site-packages\\sklearn\\metrics\\_classification.py:1248: UndefinedMetricWarning: Precision and F-score are ill-defined and being set to 0.0 in labels with no predicted samples. Use `zero_division` parameter to control this behavior.\n",
      "  _warn_prf(average, modifier, msg_start, len(result))\n"
     ]
    }
   ],
   "source": [
    "# Get Preditions and Classification Report\n",
    "y_test_delay_pred = vt_delay.predict(X_test_delay)\n",
    "\n",
    "class_delay = classification_report(y_test_delay, y_test_delay_pred)\n",
    "\n",
    "print(f\"Minutes Delay Classification Report\\n\\n{class_delay}\")"
   ]
  },
  {
   "cell_type": "code",
   "execution_count": 16,
   "id": "ec74c57f-00df-4714-a2ac-b5edf471bd7d",
   "metadata": {},
   "outputs": [
    {
     "data": {
      "text/plain": [
       "['Minutes_Delay_Model.joblib']"
      ]
     },
     "execution_count": 16,
     "metadata": {},
     "output_type": "execute_result"
    }
   ],
   "source": [
    "# save the model for later\n",
    "from joblib import dump, load\n",
    "\n",
    "dump(vt_delay, 'Minutes_Delay_Model.joblib') "
   ]
  },
  {
   "cell_type": "code",
   "execution_count": 17,
   "id": "b0c42d67-fba9-4c2f-8409-51c0adcc7cf0",
   "metadata": {},
   "outputs": [
    {
     "name": "stdout",
     "output_type": "stream",
     "text": [
      "Time: 237.79996299743652\n"
     ]
    }
   ],
   "source": [
    "# Train the Model for Gap\n",
    "t0 = time.time()\n",
    "\n",
    "vt_gap.fit(X_train_gap, y_train_gap)\n",
    "\n",
    "print(f\"Time: {time.time() - t0}\")"
   ]
  },
  {
   "cell_type": "code",
   "execution_count": 18,
   "id": "60b4a53c-dd90-4f0e-99eb-48f09974c5ce",
   "metadata": {},
   "outputs": [
    {
     "name": "stderr",
     "output_type": "stream",
     "text": [
      "C:\\Users\\danie\\anaconda3\\envs\\ML\\lib\\site-packages\\sklearn\\metrics\\_classification.py:1248: UndefinedMetricWarning: Precision and F-score are ill-defined and being set to 0.0 in labels with no predicted samples. Use `zero_division` parameter to control this behavior.\n",
      "  _warn_prf(average, modifier, msg_start, len(result))\n",
      "C:\\Users\\danie\\anaconda3\\envs\\ML\\lib\\site-packages\\sklearn\\metrics\\_classification.py:1248: UndefinedMetricWarning: Precision and F-score are ill-defined and being set to 0.0 in labels with no predicted samples. Use `zero_division` parameter to control this behavior.\n",
      "  _warn_prf(average, modifier, msg_start, len(result))\n"
     ]
    },
    {
     "name": "stdout",
     "output_type": "stream",
     "text": [
      "Minutes Gap Classification Report\n",
      "\n",
      "                  precision    recall  f1-score   support\n",
      "\n",
      "   0 - 3 minutes       0.71      0.66      0.69     26378\n",
      " 10 - 30 minutes       0.58      0.97      0.72     63490\n",
      "  3 - 10 minutes       0.00      0.00      0.00     14789\n",
      " 30 - 60 minutes       0.00      0.00      0.00     19939\n",
      "60 - 180 minutes       0.00      0.00      0.00      4773\n",
      "   >=180 minutes       0.00      0.00      0.00      1379\n",
      "\n",
      "        accuracy                           0.60    130748\n",
      "       macro avg       0.22      0.27      0.23    130748\n",
      "    weighted avg       0.42      0.60      0.49    130748\n",
      "\n"
     ]
    },
    {
     "name": "stderr",
     "output_type": "stream",
     "text": [
      "C:\\Users\\danie\\anaconda3\\envs\\ML\\lib\\site-packages\\sklearn\\metrics\\_classification.py:1248: UndefinedMetricWarning: Precision and F-score are ill-defined and being set to 0.0 in labels with no predicted samples. Use `zero_division` parameter to control this behavior.\n",
      "  _warn_prf(average, modifier, msg_start, len(result))\n"
     ]
    }
   ],
   "source": [
    "# Get Preditions and Classification Report\n",
    "y_test_gap_pred = vt_gap.predict(X_test_gap)\n",
    "\n",
    "class_gap = classification_report(y_test_gap, y_test_gap_pred)\n",
    "\n",
    "print(f\"Minutes Gap Classification Report\\n\\n{class_gap}\")"
   ]
  },
  {
   "cell_type": "code",
   "execution_count": 19,
   "id": "c8057f2c-cbbf-4317-a402-243edcfe6069",
   "metadata": {},
   "outputs": [
    {
     "data": {
      "text/plain": [
       "['Minutes_Gap_Model.joblib']"
      ]
     },
     "execution_count": 19,
     "metadata": {},
     "output_type": "execute_result"
    }
   ],
   "source": [
    "# save the model for later\n",
    "from joblib import dump, load\n",
    "\n",
    "dump(vt_gap, 'Minutes_Gap_Model.joblib')"
   ]
  }
 ],
 "metadata": {
  "kernelspec": {
   "display_name": "Python 3",
   "language": "python",
   "name": "python3"
  },
  "language_info": {
   "codemirror_mode": {
    "name": "ipython",
    "version": 3
   },
   "file_extension": ".py",
   "mimetype": "text/x-python",
   "name": "python",
   "nbconvert_exporter": "python",
   "pygments_lexer": "ipython3",
   "version": "3.8.10"
  }
 },
 "nbformat": 4,
 "nbformat_minor": 5
}
